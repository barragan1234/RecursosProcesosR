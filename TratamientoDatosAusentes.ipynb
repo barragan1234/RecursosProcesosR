{
 "cells": [
  {
   "cell_type": "markdown",
   "metadata": {},
   "source": [
    "# Tratamiento de datos ausentes"
   ]
  },
  {
   "cell_type": "markdown",
   "metadata": {},
   "source": [
    "La existencia de datos ausentes, también conocidos como missing values y representados habitualmente como NA en R, es una casuística habitual en muchas bases de datos. La mayoría de las veces se deben a problemas durante la recopilación de datos, por ejemplo, la incapacidad para obtener una cierta medida o respuesta, o fallos en la transcripción.\n",
    "\n",
    "En los casos como el nuestro, al leer datos de una fuente externa, un archivo CSV, los datos ausentes pueden aparecer como comillas vacías, estar representadas por un cierto valor clave o, sencillamente, estar ausentes. En el Lenguaje R las funciones como read.table() permiten indicar qué casos han de ser interpretados como valores ausentes y, en consecuencia, aparecer como NA en el data frame.\n",
    "\n",
    "Tratar con datasets en los que existen datos ausentes puede generar diversos problemas. Por dicha razón en este paso debemos determinar el trato que se le debe dar, a fin de evitar los inconvenientes en el desarrollo del análisis y las conclusiones que generemos\n"
   ]
  },
  {
   "cell_type": "markdown",
   "metadata": {},
   "source": [
    "## Problemática \n",
    "\n",
    "La presencia de datos ausentes dificulta la mayoría de operaciones matemáticas y de análisis. Se pueden encontrar problemas como:\n",
    "\n",
    "-  Suma de NA a cualquier número\n",
    "-  ¿Es NA menor o mayor que un cierto valor? \n",
    "- ¿Cómo se calcula la media de una lista de valores en los que aparece NA? \n",
    "\n",
    "en consecuencia, el resultado de todos ellos es también un  NA.\n",
    "\n",
    "El siguiente ejercicio genera un conjunto de valores que, hipotéticamente, se han\n",
    "obtenido de una encuesta. Cinco de los encuestados no han respondido, por lo que el valor asociado es NA. \n",
    "\n"
   ]
  },
  {
   "cell_type": "code",
   "execution_count": 1,
   "metadata": {},
   "outputs": [
    {
     "data": {
      "text/html": [
       "<ol class=list-inline>\n",
       "\t<li>6</li>\n",
       "\t<li>2</li>\n",
       "\t<li>9</li>\n",
       "\t<li>3</li>\n",
       "\t<li>6</li>\n",
       "\t<li>5</li>\n",
       "\t<li>7</li>\n",
       "\t<li>9</li>\n",
       "\t<li>2</li>\n",
       "\t<li>9</li>\n",
       "\t<li>6</li>\n",
       "\t<li>8</li>\n",
       "\t<li>9</li>\n",
       "\t<li>9</li>\n",
       "\t<li>1</li>\n",
       "\t<li>8</li>\n",
       "\t<li>1</li>\n",
       "\t<li>2</li>\n",
       "\t<li>3</li>\n",
       "\t<li>7</li>\n",
       "\t<li>2</li>\n",
       "\t<li>3</li>\n",
       "\t<li>2</li>\n",
       "\t<li>5</li>\n",
       "\t<li>8</li>\n",
       "\t<li>1</li>\n",
       "\t<li>1</li>\n",
       "\t<li>8</li>\n",
       "\t<li>3</li>\n",
       "\t<li>2</li>\n",
       "\t<li>8</li>\n",
       "\t<li>5</li>\n",
       "\t<li>5</li>\n",
       "\t<li>3</li>\n",
       "\t<li>3</li>\n",
       "\t<li>2</li>\n",
       "\t<li>2</li>\n",
       "\t<li>2</li>\n",
       "\t<li>5</li>\n",
       "\t<li>4</li>\n",
       "\t<li>5</li>\n",
       "\t<li>1</li>\n",
       "\t<li>3</li>\n",
       "\t<li>7</li>\n",
       "\t<li>8</li>\n",
       "\t<li>5</li>\n",
       "\t<li>5</li>\n",
       "\t<li>9</li>\n",
       "\t<li>8</li>\n",
       "\t<li>5</li>\n",
       "</ol>\n"
      ],
      "text/latex": [
       "\\begin{enumerate*}\n",
       "\\item 6\n",
       "\\item 2\n",
       "\\item 9\n",
       "\\item 3\n",
       "\\item 6\n",
       "\\item 5\n",
       "\\item 7\n",
       "\\item 9\n",
       "\\item 2\n",
       "\\item 9\n",
       "\\item 6\n",
       "\\item 8\n",
       "\\item 9\n",
       "\\item 9\n",
       "\\item 1\n",
       "\\item 8\n",
       "\\item 1\n",
       "\\item 2\n",
       "\\item 3\n",
       "\\item 7\n",
       "\\item 2\n",
       "\\item 3\n",
       "\\item 2\n",
       "\\item 5\n",
       "\\item 8\n",
       "\\item 1\n",
       "\\item 1\n",
       "\\item 8\n",
       "\\item 3\n",
       "\\item 2\n",
       "\\item 8\n",
       "\\item 5\n",
       "\\item 5\n",
       "\\item 3\n",
       "\\item 3\n",
       "\\item 2\n",
       "\\item 2\n",
       "\\item 2\n",
       "\\item 5\n",
       "\\item 4\n",
       "\\item 5\n",
       "\\item 1\n",
       "\\item 3\n",
       "\\item 7\n",
       "\\item 8\n",
       "\\item 5\n",
       "\\item 5\n",
       "\\item 9\n",
       "\\item 8\n",
       "\\item 5\n",
       "\\end{enumerate*}\n"
      ],
      "text/markdown": [
       "1. 6\n",
       "2. 2\n",
       "3. 9\n",
       "4. 3\n",
       "5. 6\n",
       "6. 5\n",
       "7. 7\n",
       "8. 9\n",
       "9. 2\n",
       "10. 9\n",
       "11. 6\n",
       "12. 8\n",
       "13. 9\n",
       "14. 9\n",
       "15. 1\n",
       "16. 8\n",
       "17. 1\n",
       "18. 2\n",
       "19. 3\n",
       "20. 7\n",
       "21. 2\n",
       "22. 3\n",
       "23. 2\n",
       "24. 5\n",
       "25. 8\n",
       "26. 1\n",
       "27. 1\n",
       "28. 8\n",
       "29. 3\n",
       "30. 2\n",
       "31. 8\n",
       "32. 5\n",
       "33. 5\n",
       "34. 3\n",
       "35. 3\n",
       "36. 2\n",
       "37. 2\n",
       "38. 2\n",
       "39. 5\n",
       "40. 4\n",
       "41. 5\n",
       "42. 1\n",
       "43. 3\n",
       "44. 7\n",
       "45. 8\n",
       "46. 5\n",
       "47. 5\n",
       "48. 9\n",
       "49. 8\n",
       "50. 5\n",
       "\n",
       "\n"
      ],
      "text/plain": [
       " [1] 6 2 9 3 6 5 7 9 2 9 6 8 9 9 1 8 1 2 3 7 2 3 2 5 8 1 1 8 3 2 8 5 5 3 3 2 2 2\n",
       "[39] 5 4 5 1 3 7 8 5 5 9 8 5"
      ]
     },
     "metadata": {},
     "output_type": "display_data"
    },
    {
     "data": {
      "text/html": [
       "<ol class=list-inline>\n",
       "\t<li>15</li>\n",
       "\t<li>18</li>\n",
       "\t<li>4</li>\n",
       "\t<li>35</li>\n",
       "\t<li>8</li>\n",
       "</ol>\n"
      ],
      "text/latex": [
       "\\begin{enumerate*}\n",
       "\\item 15\n",
       "\\item 18\n",
       "\\item 4\n",
       "\\item 35\n",
       "\\item 8\n",
       "\\end{enumerate*}\n"
      ],
      "text/markdown": [
       "1. 15\n",
       "2. 18\n",
       "3. 4\n",
       "4. 35\n",
       "5. 8\n",
       "\n",
       "\n"
      ],
      "text/plain": [
       "[1] 15 18  4 35  8"
      ]
     },
     "metadata": {},
     "output_type": "display_data"
    },
    {
     "data": {
      "text/html": [
       "<ol class=list-inline>\n",
       "\t<li>6</li>\n",
       "\t<li>2</li>\n",
       "\t<li>9</li>\n",
       "\t<li>&lt;NA&gt;</li>\n",
       "\t<li>6</li>\n",
       "\t<li>5</li>\n",
       "\t<li>7</li>\n",
       "\t<li>&lt;NA&gt;</li>\n",
       "\t<li>2</li>\n",
       "\t<li>9</li>\n",
       "\t<li>6</li>\n",
       "\t<li>8</li>\n",
       "\t<li>9</li>\n",
       "\t<li>9</li>\n",
       "\t<li>&lt;NA&gt;</li>\n",
       "\t<li>8</li>\n",
       "\t<li>1</li>\n",
       "\t<li>&lt;NA&gt;</li>\n",
       "\t<li>3</li>\n",
       "\t<li>7</li>\n",
       "\t<li>2</li>\n",
       "\t<li>3</li>\n",
       "\t<li>2</li>\n",
       "\t<li>5</li>\n",
       "\t<li>8</li>\n",
       "\t<li>1</li>\n",
       "\t<li>1</li>\n",
       "\t<li>8</li>\n",
       "\t<li>3</li>\n",
       "\t<li>2</li>\n",
       "\t<li>8</li>\n",
       "\t<li>5</li>\n",
       "\t<li>5</li>\n",
       "\t<li>3</li>\n",
       "\t<li>&lt;NA&gt;</li>\n",
       "\t<li>2</li>\n",
       "\t<li>2</li>\n",
       "\t<li>2</li>\n",
       "\t<li>5</li>\n",
       "\t<li>4</li>\n",
       "\t<li>5</li>\n",
       "\t<li>1</li>\n",
       "\t<li>3</li>\n",
       "\t<li>7</li>\n",
       "\t<li>8</li>\n",
       "\t<li>5</li>\n",
       "\t<li>5</li>\n",
       "\t<li>9</li>\n",
       "\t<li>8</li>\n",
       "\t<li>5</li>\n",
       "</ol>\n"
      ],
      "text/latex": [
       "\\begin{enumerate*}\n",
       "\\item 6\n",
       "\\item 2\n",
       "\\item 9\n",
       "\\item <NA>\n",
       "\\item 6\n",
       "\\item 5\n",
       "\\item 7\n",
       "\\item <NA>\n",
       "\\item 2\n",
       "\\item 9\n",
       "\\item 6\n",
       "\\item 8\n",
       "\\item 9\n",
       "\\item 9\n",
       "\\item <NA>\n",
       "\\item 8\n",
       "\\item 1\n",
       "\\item <NA>\n",
       "\\item 3\n",
       "\\item 7\n",
       "\\item 2\n",
       "\\item 3\n",
       "\\item 2\n",
       "\\item 5\n",
       "\\item 8\n",
       "\\item 1\n",
       "\\item 1\n",
       "\\item 8\n",
       "\\item 3\n",
       "\\item 2\n",
       "\\item 8\n",
       "\\item 5\n",
       "\\item 5\n",
       "\\item 3\n",
       "\\item <NA>\n",
       "\\item 2\n",
       "\\item 2\n",
       "\\item 2\n",
       "\\item 5\n",
       "\\item 4\n",
       "\\item 5\n",
       "\\item 1\n",
       "\\item 3\n",
       "\\item 7\n",
       "\\item 8\n",
       "\\item 5\n",
       "\\item 5\n",
       "\\item 9\n",
       "\\item 8\n",
       "\\item 5\n",
       "\\end{enumerate*}\n"
      ],
      "text/markdown": [
       "1. 6\n",
       "2. 2\n",
       "3. 9\n",
       "4. &lt;NA&gt;\n",
       "5. 6\n",
       "6. 5\n",
       "7. 7\n",
       "8. &lt;NA&gt;\n",
       "9. 2\n",
       "10. 9\n",
       "11. 6\n",
       "12. 8\n",
       "13. 9\n",
       "14. 9\n",
       "15. &lt;NA&gt;\n",
       "16. 8\n",
       "17. 1\n",
       "18. &lt;NA&gt;\n",
       "19. 3\n",
       "20. 7\n",
       "21. 2\n",
       "22. 3\n",
       "23. 2\n",
       "24. 5\n",
       "25. 8\n",
       "26. 1\n",
       "27. 1\n",
       "28. 8\n",
       "29. 3\n",
       "30. 2\n",
       "31. 8\n",
       "32. 5\n",
       "33. 5\n",
       "34. 3\n",
       "35. &lt;NA&gt;\n",
       "36. 2\n",
       "37. 2\n",
       "38. 2\n",
       "39. 5\n",
       "40. 4\n",
       "41. 5\n",
       "42. 1\n",
       "43. 3\n",
       "44. 7\n",
       "45. 8\n",
       "46. 5\n",
       "47. 5\n",
       "48. 9\n",
       "49. 8\n",
       "50. 5\n",
       "\n",
       "\n"
      ],
      "text/plain": [
       " [1]  6  2  9 NA  6  5  7 NA  2  9  6  8  9  9 NA  8  1 NA  3  7  2  3  2  5  8\n",
       "[26]  1  1  8  3  2  8  5  5  3 NA  2  2  2  5  4  5  1  3  7  8  5  5  9  8  5"
      ]
     },
     "metadata": {},
     "output_type": "display_data"
    }
   ],
   "source": [
    "# Ejercicio : Algunas operaciones con datos ausentes\n",
    "\n",
    "# Número de horas trabajadas semanalmente en una encuesta \n",
    "valores <- as.integer(runif(50,1,10)) \n",
    "valores\n",
    "indices <- as.integer(runif(5,1,50)) # Sin respuesta 5 casos\n",
    "indices\n",
    "valores[indices] <- NA \n",
    "valores"
   ]
  },
  {
   "cell_type": "code",
   "execution_count": 2,
   "metadata": {},
   "outputs": [
    {
     "data": {
      "text/html": [
       "<ol class=list-inline>\n",
       "\t<li>TRUE</li>\n",
       "\t<li>FALSE</li>\n",
       "\t<li>TRUE</li>\n",
       "\t<li>&lt;NA&gt;</li>\n",
       "\t<li>TRUE</li>\n",
       "\t<li>FALSE</li>\n",
       "\t<li>TRUE</li>\n",
       "\t<li>&lt;NA&gt;</li>\n",
       "\t<li>FALSE</li>\n",
       "\t<li>TRUE</li>\n",
       "\t<li>TRUE</li>\n",
       "\t<li>TRUE</li>\n",
       "\t<li>TRUE</li>\n",
       "\t<li>TRUE</li>\n",
       "\t<li>&lt;NA&gt;</li>\n",
       "\t<li>TRUE</li>\n",
       "\t<li>FALSE</li>\n",
       "\t<li>&lt;NA&gt;</li>\n",
       "\t<li>FALSE</li>\n",
       "\t<li>TRUE</li>\n",
       "\t<li>FALSE</li>\n",
       "\t<li>FALSE</li>\n",
       "\t<li>FALSE</li>\n",
       "\t<li>FALSE</li>\n",
       "\t<li>TRUE</li>\n",
       "\t<li>FALSE</li>\n",
       "\t<li>FALSE</li>\n",
       "\t<li>TRUE</li>\n",
       "\t<li>FALSE</li>\n",
       "\t<li>FALSE</li>\n",
       "\t<li>TRUE</li>\n",
       "\t<li>FALSE</li>\n",
       "\t<li>FALSE</li>\n",
       "\t<li>FALSE</li>\n",
       "\t<li>&lt;NA&gt;</li>\n",
       "\t<li>FALSE</li>\n",
       "\t<li>FALSE</li>\n",
       "\t<li>FALSE</li>\n",
       "\t<li>FALSE</li>\n",
       "\t<li>FALSE</li>\n",
       "\t<li>FALSE</li>\n",
       "\t<li>FALSE</li>\n",
       "\t<li>FALSE</li>\n",
       "\t<li>TRUE</li>\n",
       "\t<li>TRUE</li>\n",
       "\t<li>FALSE</li>\n",
       "\t<li>FALSE</li>\n",
       "\t<li>TRUE</li>\n",
       "\t<li>TRUE</li>\n",
       "\t<li>FALSE</li>\n",
       "</ol>\n"
      ],
      "text/latex": [
       "\\begin{enumerate*}\n",
       "\\item TRUE\n",
       "\\item FALSE\n",
       "\\item TRUE\n",
       "\\item <NA>\n",
       "\\item TRUE\n",
       "\\item FALSE\n",
       "\\item TRUE\n",
       "\\item <NA>\n",
       "\\item FALSE\n",
       "\\item TRUE\n",
       "\\item TRUE\n",
       "\\item TRUE\n",
       "\\item TRUE\n",
       "\\item TRUE\n",
       "\\item <NA>\n",
       "\\item TRUE\n",
       "\\item FALSE\n",
       "\\item <NA>\n",
       "\\item FALSE\n",
       "\\item TRUE\n",
       "\\item FALSE\n",
       "\\item FALSE\n",
       "\\item FALSE\n",
       "\\item FALSE\n",
       "\\item TRUE\n",
       "\\item FALSE\n",
       "\\item FALSE\n",
       "\\item TRUE\n",
       "\\item FALSE\n",
       "\\item FALSE\n",
       "\\item TRUE\n",
       "\\item FALSE\n",
       "\\item FALSE\n",
       "\\item FALSE\n",
       "\\item <NA>\n",
       "\\item FALSE\n",
       "\\item FALSE\n",
       "\\item FALSE\n",
       "\\item FALSE\n",
       "\\item FALSE\n",
       "\\item FALSE\n",
       "\\item FALSE\n",
       "\\item FALSE\n",
       "\\item TRUE\n",
       "\\item TRUE\n",
       "\\item FALSE\n",
       "\\item FALSE\n",
       "\\item TRUE\n",
       "\\item TRUE\n",
       "\\item FALSE\n",
       "\\end{enumerate*}\n"
      ],
      "text/markdown": [
       "1. TRUE\n",
       "2. FALSE\n",
       "3. TRUE\n",
       "4. &lt;NA&gt;\n",
       "5. TRUE\n",
       "6. FALSE\n",
       "7. TRUE\n",
       "8. &lt;NA&gt;\n",
       "9. FALSE\n",
       "10. TRUE\n",
       "11. TRUE\n",
       "12. TRUE\n",
       "13. TRUE\n",
       "14. TRUE\n",
       "15. &lt;NA&gt;\n",
       "16. TRUE\n",
       "17. FALSE\n",
       "18. &lt;NA&gt;\n",
       "19. FALSE\n",
       "20. TRUE\n",
       "21. FALSE\n",
       "22. FALSE\n",
       "23. FALSE\n",
       "24. FALSE\n",
       "25. TRUE\n",
       "26. FALSE\n",
       "27. FALSE\n",
       "28. TRUE\n",
       "29. FALSE\n",
       "30. FALSE\n",
       "31. TRUE\n",
       "32. FALSE\n",
       "33. FALSE\n",
       "34. FALSE\n",
       "35. &lt;NA&gt;\n",
       "36. FALSE\n",
       "37. FALSE\n",
       "38. FALSE\n",
       "39. FALSE\n",
       "40. FALSE\n",
       "41. FALSE\n",
       "42. FALSE\n",
       "43. FALSE\n",
       "44. TRUE\n",
       "45. TRUE\n",
       "46. FALSE\n",
       "47. FALSE\n",
       "48. TRUE\n",
       "49. TRUE\n",
       "50. FALSE\n",
       "\n",
       "\n"
      ],
      "text/plain": [
       " [1]  TRUE FALSE  TRUE    NA  TRUE FALSE  TRUE    NA FALSE  TRUE  TRUE  TRUE\n",
       "[13]  TRUE  TRUE    NA  TRUE FALSE    NA FALSE  TRUE FALSE FALSE FALSE FALSE\n",
       "[25]  TRUE FALSE FALSE  TRUE FALSE FALSE  TRUE FALSE FALSE FALSE    NA FALSE\n",
       "[37] FALSE FALSE FALSE FALSE FALSE FALSE FALSE  TRUE  TRUE FALSE FALSE  TRUE\n",
       "[49]  TRUE FALSE"
      ]
     },
     "metadata": {},
     "output_type": "display_data"
    }
   ],
   "source": [
    "valores > 5 # Los valores NA no pueden ser comparados"
   ]
  },
  {
   "cell_type": "code",
   "execution_count": 3,
   "metadata": {},
   "outputs": [
    {
     "data": {
      "text/html": [
       "<ol class=list-inline>\n",
       "\t<li>16</li>\n",
       "\t<li>12</li>\n",
       "\t<li>19</li>\n",
       "\t<li>&lt;NA&gt;</li>\n",
       "\t<li>16</li>\n",
       "\t<li>15</li>\n",
       "\t<li>17</li>\n",
       "\t<li>&lt;NA&gt;</li>\n",
       "\t<li>12</li>\n",
       "\t<li>19</li>\n",
       "\t<li>16</li>\n",
       "\t<li>18</li>\n",
       "\t<li>19</li>\n",
       "\t<li>19</li>\n",
       "\t<li>&lt;NA&gt;</li>\n",
       "\t<li>18</li>\n",
       "\t<li>11</li>\n",
       "\t<li>&lt;NA&gt;</li>\n",
       "\t<li>13</li>\n",
       "\t<li>17</li>\n",
       "\t<li>12</li>\n",
       "\t<li>13</li>\n",
       "\t<li>12</li>\n",
       "\t<li>15</li>\n",
       "\t<li>18</li>\n",
       "\t<li>11</li>\n",
       "\t<li>11</li>\n",
       "\t<li>18</li>\n",
       "\t<li>13</li>\n",
       "\t<li>12</li>\n",
       "\t<li>18</li>\n",
       "\t<li>15</li>\n",
       "\t<li>15</li>\n",
       "\t<li>13</li>\n",
       "\t<li>&lt;NA&gt;</li>\n",
       "\t<li>12</li>\n",
       "\t<li>12</li>\n",
       "\t<li>12</li>\n",
       "\t<li>15</li>\n",
       "\t<li>14</li>\n",
       "\t<li>15</li>\n",
       "\t<li>11</li>\n",
       "\t<li>13</li>\n",
       "\t<li>17</li>\n",
       "\t<li>18</li>\n",
       "\t<li>15</li>\n",
       "\t<li>15</li>\n",
       "\t<li>19</li>\n",
       "\t<li>18</li>\n",
       "\t<li>15</li>\n",
       "</ol>\n"
      ],
      "text/latex": [
       "\\begin{enumerate*}\n",
       "\\item 16\n",
       "\\item 12\n",
       "\\item 19\n",
       "\\item <NA>\n",
       "\\item 16\n",
       "\\item 15\n",
       "\\item 17\n",
       "\\item <NA>\n",
       "\\item 12\n",
       "\\item 19\n",
       "\\item 16\n",
       "\\item 18\n",
       "\\item 19\n",
       "\\item 19\n",
       "\\item <NA>\n",
       "\\item 18\n",
       "\\item 11\n",
       "\\item <NA>\n",
       "\\item 13\n",
       "\\item 17\n",
       "\\item 12\n",
       "\\item 13\n",
       "\\item 12\n",
       "\\item 15\n",
       "\\item 18\n",
       "\\item 11\n",
       "\\item 11\n",
       "\\item 18\n",
       "\\item 13\n",
       "\\item 12\n",
       "\\item 18\n",
       "\\item 15\n",
       "\\item 15\n",
       "\\item 13\n",
       "\\item <NA>\n",
       "\\item 12\n",
       "\\item 12\n",
       "\\item 12\n",
       "\\item 15\n",
       "\\item 14\n",
       "\\item 15\n",
       "\\item 11\n",
       "\\item 13\n",
       "\\item 17\n",
       "\\item 18\n",
       "\\item 15\n",
       "\\item 15\n",
       "\\item 19\n",
       "\\item 18\n",
       "\\item 15\n",
       "\\end{enumerate*}\n"
      ],
      "text/markdown": [
       "1. 16\n",
       "2. 12\n",
       "3. 19\n",
       "4. &lt;NA&gt;\n",
       "5. 16\n",
       "6. 15\n",
       "7. 17\n",
       "8. &lt;NA&gt;\n",
       "9. 12\n",
       "10. 19\n",
       "11. 16\n",
       "12. 18\n",
       "13. 19\n",
       "14. 19\n",
       "15. &lt;NA&gt;\n",
       "16. 18\n",
       "17. 11\n",
       "18. &lt;NA&gt;\n",
       "19. 13\n",
       "20. 17\n",
       "21. 12\n",
       "22. 13\n",
       "23. 12\n",
       "24. 15\n",
       "25. 18\n",
       "26. 11\n",
       "27. 11\n",
       "28. 18\n",
       "29. 13\n",
       "30. 12\n",
       "31. 18\n",
       "32. 15\n",
       "33. 15\n",
       "34. 13\n",
       "35. &lt;NA&gt;\n",
       "36. 12\n",
       "37. 12\n",
       "38. 12\n",
       "39. 15\n",
       "40. 14\n",
       "41. 15\n",
       "42. 11\n",
       "43. 13\n",
       "44. 17\n",
       "45. 18\n",
       "46. 15\n",
       "47. 15\n",
       "48. 19\n",
       "49. 18\n",
       "50. 15\n",
       "\n",
       "\n"
      ],
      "text/plain": [
       " [1] 16 12 19 NA 16 15 17 NA 12 19 16 18 19 19 NA 18 11 NA 13 17 12 13 12 15 18\n",
       "[26] 11 11 18 13 12 18 15 15 13 NA 12 12 12 15 14 15 11 13 17 18 15 15 19 18 15"
      ]
     },
     "metadata": {},
     "output_type": "display_data"
    }
   ],
   "source": [
    "valores + 10 # Ni se puede operar con ellos"
   ]
  },
  {
   "cell_type": "code",
   "execution_count": 4,
   "metadata": {},
   "outputs": [
    {
     "data": {
      "text/html": [
       "&lt;NA&gt;"
      ],
      "text/latex": [
       "<NA>"
      ],
      "text/markdown": [
       "&lt;NA&gt;"
      ],
      "text/plain": [
       "[1] NA"
      ]
     },
     "metadata": {},
     "output_type": "display_data"
    }
   ],
   "source": [
    "mean(valores)"
   ]
  },
  {
   "cell_type": "markdown",
   "metadata": {},
   "source": [
    "## Detectar existencia de valores ausentes \n",
    "\n",
    "Antes de operar con un conjunto de datos, por tanto, deberíamos verificar si existen\n",
    "valores ausentes y, en caso afirmativo, planificar cómo se abordár  su tratamiento. Con este fin podemos usar funciones como \n",
    "is.na() y na.fail(), entre otras.\n",
    "\n",
    "Sint´axis 5.1 is.na(objeto)\n",
    "Devuelve TRUE si el objeto es un valor ausente o FALSE en caso contrario. Si el objeto es compuesto, como un vector, una matriz o data frame, la comprobación se efect´ua elemento a elemento.\n",
    "\n",
    "Sint´axis 5.2 na.fail(objeto)\n",
    "En caso de que el objeto facilitado como argumento contenga alg´un valor\n",
    "ausente, esta funci´on genera un error y detiene la ejecuci´on del gui´on o programa."
   ]
  },
  {
   "cell_type": "markdown",
   "metadata": {},
   "source": [
    "En caso de que solamente queramos saber si un objeto contiene valores ausentes o\n",
    "no, sin obtener un vector l´ogico para cada elemento, podemos combinar la salida de is.na() mediante la funci´on any(), tal y como se muestra en el siguente ejercicio:"
   ]
  },
  {
   "cell_type": "code",
   "execution_count": 5,
   "metadata": {},
   "outputs": [
    {
     "data": {
      "text/html": [
       "<ol class=list-inline>\n",
       "\t<li>FALSE</li>\n",
       "\t<li>FALSE</li>\n",
       "\t<li>FALSE</li>\n",
       "\t<li>TRUE</li>\n",
       "\t<li>FALSE</li>\n",
       "\t<li>FALSE</li>\n",
       "\t<li>FALSE</li>\n",
       "\t<li>TRUE</li>\n",
       "\t<li>FALSE</li>\n",
       "\t<li>FALSE</li>\n",
       "\t<li>FALSE</li>\n",
       "\t<li>FALSE</li>\n",
       "\t<li>FALSE</li>\n",
       "\t<li>FALSE</li>\n",
       "\t<li>TRUE</li>\n",
       "\t<li>FALSE</li>\n",
       "\t<li>FALSE</li>\n",
       "\t<li>TRUE</li>\n",
       "\t<li>FALSE</li>\n",
       "\t<li>FALSE</li>\n",
       "\t<li>FALSE</li>\n",
       "\t<li>FALSE</li>\n",
       "\t<li>FALSE</li>\n",
       "\t<li>FALSE</li>\n",
       "\t<li>FALSE</li>\n",
       "\t<li>FALSE</li>\n",
       "\t<li>FALSE</li>\n",
       "\t<li>FALSE</li>\n",
       "\t<li>FALSE</li>\n",
       "\t<li>FALSE</li>\n",
       "\t<li>FALSE</li>\n",
       "\t<li>FALSE</li>\n",
       "\t<li>FALSE</li>\n",
       "\t<li>FALSE</li>\n",
       "\t<li>TRUE</li>\n",
       "\t<li>FALSE</li>\n",
       "\t<li>FALSE</li>\n",
       "\t<li>FALSE</li>\n",
       "\t<li>FALSE</li>\n",
       "\t<li>FALSE</li>\n",
       "\t<li>FALSE</li>\n",
       "\t<li>FALSE</li>\n",
       "\t<li>FALSE</li>\n",
       "\t<li>FALSE</li>\n",
       "\t<li>FALSE</li>\n",
       "\t<li>FALSE</li>\n",
       "\t<li>FALSE</li>\n",
       "\t<li>FALSE</li>\n",
       "\t<li>FALSE</li>\n",
       "\t<li>FALSE</li>\n",
       "</ol>\n"
      ],
      "text/latex": [
       "\\begin{enumerate*}\n",
       "\\item FALSE\n",
       "\\item FALSE\n",
       "\\item FALSE\n",
       "\\item TRUE\n",
       "\\item FALSE\n",
       "\\item FALSE\n",
       "\\item FALSE\n",
       "\\item TRUE\n",
       "\\item FALSE\n",
       "\\item FALSE\n",
       "\\item FALSE\n",
       "\\item FALSE\n",
       "\\item FALSE\n",
       "\\item FALSE\n",
       "\\item TRUE\n",
       "\\item FALSE\n",
       "\\item FALSE\n",
       "\\item TRUE\n",
       "\\item FALSE\n",
       "\\item FALSE\n",
       "\\item FALSE\n",
       "\\item FALSE\n",
       "\\item FALSE\n",
       "\\item FALSE\n",
       "\\item FALSE\n",
       "\\item FALSE\n",
       "\\item FALSE\n",
       "\\item FALSE\n",
       "\\item FALSE\n",
       "\\item FALSE\n",
       "\\item FALSE\n",
       "\\item FALSE\n",
       "\\item FALSE\n",
       "\\item FALSE\n",
       "\\item TRUE\n",
       "\\item FALSE\n",
       "\\item FALSE\n",
       "\\item FALSE\n",
       "\\item FALSE\n",
       "\\item FALSE\n",
       "\\item FALSE\n",
       "\\item FALSE\n",
       "\\item FALSE\n",
       "\\item FALSE\n",
       "\\item FALSE\n",
       "\\item FALSE\n",
       "\\item FALSE\n",
       "\\item FALSE\n",
       "\\item FALSE\n",
       "\\item FALSE\n",
       "\\end{enumerate*}\n"
      ],
      "text/markdown": [
       "1. FALSE\n",
       "2. FALSE\n",
       "3. FALSE\n",
       "4. TRUE\n",
       "5. FALSE\n",
       "6. FALSE\n",
       "7. FALSE\n",
       "8. TRUE\n",
       "9. FALSE\n",
       "10. FALSE\n",
       "11. FALSE\n",
       "12. FALSE\n",
       "13. FALSE\n",
       "14. FALSE\n",
       "15. TRUE\n",
       "16. FALSE\n",
       "17. FALSE\n",
       "18. TRUE\n",
       "19. FALSE\n",
       "20. FALSE\n",
       "21. FALSE\n",
       "22. FALSE\n",
       "23. FALSE\n",
       "24. FALSE\n",
       "25. FALSE\n",
       "26. FALSE\n",
       "27. FALSE\n",
       "28. FALSE\n",
       "29. FALSE\n",
       "30. FALSE\n",
       "31. FALSE\n",
       "32. FALSE\n",
       "33. FALSE\n",
       "34. FALSE\n",
       "35. TRUE\n",
       "36. FALSE\n",
       "37. FALSE\n",
       "38. FALSE\n",
       "39. FALSE\n",
       "40. FALSE\n",
       "41. FALSE\n",
       "42. FALSE\n",
       "43. FALSE\n",
       "44. FALSE\n",
       "45. FALSE\n",
       "46. FALSE\n",
       "47. FALSE\n",
       "48. FALSE\n",
       "49. FALSE\n",
       "50. FALSE\n",
       "\n",
       "\n"
      ],
      "text/plain": [
       " [1] FALSE FALSE FALSE  TRUE FALSE FALSE FALSE  TRUE FALSE FALSE FALSE FALSE\n",
       "[13] FALSE FALSE  TRUE FALSE FALSE  TRUE FALSE FALSE FALSE FALSE FALSE FALSE\n",
       "[25] FALSE FALSE FALSE FALSE FALSE FALSE FALSE FALSE FALSE FALSE  TRUE FALSE\n",
       "[37] FALSE FALSE FALSE FALSE FALSE FALSE FALSE FALSE FALSE FALSE FALSE FALSE\n",
       "[49] FALSE FALSE"
      ]
     },
     "metadata": {},
     "output_type": "display_data"
    }
   ],
   "source": [
    "# Ejercicio 5.2 Detectar la presencia de valores nulos antes de operar \n",
    "is.na(valores) "
   ]
  },
  {
   "cell_type": "code",
   "execution_count": 6,
   "metadata": {},
   "outputs": [
    {
     "data": {
      "text/html": [
       "TRUE"
      ],
      "text/latex": [
       "TRUE"
      ],
      "text/markdown": [
       "TRUE"
      ],
      "text/plain": [
       "[1] TRUE"
      ]
     },
     "metadata": {},
     "output_type": "display_data"
    }
   ],
   "source": [
    "any(is.na(valores))"
   ]
  },
  {
   "cell_type": "code",
   "execution_count": 7,
   "metadata": {},
   "outputs": [
    {
     "ename": "ERROR",
     "evalue": "Error in na.fail.default(valores): missing values in object\n",
     "output_type": "error",
     "traceback": [
      "Error in na.fail.default(valores): missing values in object\nTraceback:\n",
      "1. na.fail(valores)",
      "2. na.fail.default(valores)",
      "3. stop(\"missing values in object\")"
     ]
    }
   ],
   "source": [
    "na.fail(valores)"
   ]
  },
  {
   "cell_type": "markdown",
   "metadata": {},
   "source": [
    "# Eliminar datos ausentes \n",
    "Dependiendo de cómo vayamos a operar sobre los datos, es posible que antes de trabajar con ellos prefiramos eliminar los datos ausentes para evitar problemas como los antes expuestos. Con este fin recurriremos a la función na.omit(): \n",
    "\n",
    "Sintáxis 5.3 na.omit(objeto) \n",
    "Eliminará del objeto entregado como argumento cualquier dato ausente que exista, devolviendo un objeto del mismo tipo sin dichos valores. Los indices que ocupaban los datos ausentes se facilitan en un atributo asociado al objeto y llamado na.action.\n",
    "\n",
    "Otra posibilidad consiste en utilizar la función complete.cases(). Esta resulta\n",
    "especialmente útil al trabajar con data frames, ya que verifica que ninguna de las columnas de cada fila contenga valores ausentes. El valor devuelto es un vector de lógicos, con TRUE en las filas completas (sin valores ausentes) y FALSE en las demás. Dicho vector puede ser utiliza para seleccionar las filas que interesen. \n",
    "\n",
    "Sint´axis 5.4 complete.cases(objeto) Devuelve un vector de valores l´ogicos indicando cu´ales de las filas del objeto\n",
    "entregado como par´ametro est´an completas, no conteniendo ning´un valor ausente.\n",
    "\n",
    "El dataset integrado airquality contiene 42 filas con valores ausentes de un total\n",
    "de 153 observaciones. En el siguiente ejercicio se muestra cómo obtener únicamente\n",
    "las filas sin valores nulos, ya sea utilizando na.omit() o complete.cases():\n",
    "\n"
   ]
  },
  {
   "cell_type": "code",
   "execution_count": 8,
   "metadata": {},
   "outputs": [
    {
     "name": "stdout",
     "output_type": "stream",
     "text": [
      "'data.frame':\t153 obs. of  6 variables:\n",
      " $ Ozone  : int  41 36 12 18 NA 28 23 19 8 NA ...\n",
      " $ Solar.R: int  190 118 149 313 NA NA 299 99 19 194 ...\n",
      " $ Wind   : num  7.4 8 12.6 11.5 14.3 14.9 8.6 13.8 20.1 8.6 ...\n",
      " $ Temp   : int  67 72 74 62 56 66 65 59 61 69 ...\n",
      " $ Month  : int  5 5 5 5 5 5 5 5 5 5 ...\n",
      " $ Day    : int  1 2 3 4 5 6 7 8 9 10 ...\n"
     ]
    }
   ],
   "source": [
    "# Eliminaci´on de valores ausentes \n",
    "str(airquality)"
   ]
  },
  {
   "cell_type": "code",
   "execution_count": 9,
   "metadata": {},
   "outputs": [
    {
     "data": {
      "text/html": [
       "153"
      ],
      "text/latex": [
       "153"
      ],
      "text/markdown": [
       "153"
      ],
      "text/plain": [
       "[1] 153"
      ]
     },
     "metadata": {},
     "output_type": "display_data"
    }
   ],
   "source": [
    "nrow(airquality)"
   ]
  },
  {
   "cell_type": "code",
   "execution_count": 10,
   "metadata": {},
   "outputs": [
    {
     "data": {
      "text/html": [
       "111"
      ],
      "text/latex": [
       "111"
      ],
      "text/markdown": [
       "111"
      ],
      "text/plain": [
       "[1] 111"
      ]
     },
     "metadata": {},
     "output_type": "display_data"
    }
   ],
   "source": [
    "nrow(na.omit(airquality))"
   ]
  },
  {
   "cell_type": "code",
   "execution_count": 11,
   "metadata": {},
   "outputs": [
    {
     "data": {
      "text/html": [
       "111"
      ],
      "text/latex": [
       "111"
      ],
      "text/markdown": [
       "111"
      ],
      "text/plain": [
       "[1] 111"
      ]
     },
     "metadata": {},
     "output_type": "display_data"
    }
   ],
   "source": [
    "nrow(airquality[complete.cases(airquality),])"
   ]
  },
  {
   "cell_type": "markdown",
   "metadata": {},
   "source": [
    "## Operar en presencia de datos ausentes \n",
    "\n",
    "Algunas funciones R están preparadas para trabajar en presencia de datos ausentes,\n",
    "aceptando un par´ametro que determina c´omo han de ser tratados. Un par de ejemplos de este caso son las funciones mean() y lm(), usadas para obtener el valor promedio (media aritm´etica) y ajustar un modelo lineal. La primera acepta el par´ametro na.rm, de tipo l´ogico, con el que se indica si los valores ausentes deben ser ignorados durante el c´alculo o no. La segunda tiene un par´ametro llamado na.action que, entre otros, acepta el valor omit, con exactamente el mismo resultado. \n",
    "\n",
    "En ocasiones, en lugar de eliminar filas completas de datos de un data frame lo que se hace es sustituir los valores ausentes por el valor promedio de la columna en la que aparece, o bien con el valor m´as frecuente o bien alg´un valor especial. En el siguiente ejercicio se pone en práctica la primera t´ecnica:"
   ]
  },
  {
   "cell_type": "code",
   "execution_count": 12,
   "metadata": {},
   "outputs": [
    {
     "data": {
      "text/html": [
       "4.97777777777778"
      ],
      "text/latex": [
       "4.97777777777778"
      ],
      "text/markdown": [
       "4.97777777777778"
      ],
      "text/plain": [
       "[1] 4.977778"
      ]
     },
     "metadata": {},
     "output_type": "display_data"
    },
    {
     "data": {
      "text/html": [
       "4.97777777777778"
      ],
      "text/latex": [
       "4.97777777777778"
      ],
      "text/markdown": [
       "4.97777777777778"
      ],
      "text/plain": [
       "[1] 4.977778"
      ]
     },
     "metadata": {},
     "output_type": "display_data"
    },
    {
     "data": {
      "text/plain": [
       "\n",
       "Call:\n",
       "lm(formula = Solar.R ~ Temp, data = airquality, na.action = na.omit)\n",
       "\n",
       "Coefficients:\n",
       "(Intercept)         Temp  \n",
       "    -24.431        2.693  \n"
      ]
     },
     "metadata": {},
     "output_type": "display_data"
    }
   ],
   "source": [
    "# Ejercicio 5.4 Operar en presencia de valores ausentes\n",
    "promedio <- mean(valores, na.rm = TRUE) \n",
    "promedio \n",
    "\n",
    "valores[is.na(valores)] <- promedio \n",
    "mean(valores) \n",
    "\n",
    "lm(Solar.R ~ Temp, airquality, na.action=na.omit)"
   ]
  },
  {
   "cell_type": "markdown",
   "metadata": {},
   "source": [
    "## Referencias\n",
    "\n",
    "Charte, F. (2014). Análisis exploratorio y visualización de datos con R. 147. Retrieved from http://www.fcharte.com/libros/ExploraVisualizaConR-Fcharte.pdf\n"
   ]
  },
  {
   "cell_type": "code",
   "execution_count": null,
   "metadata": {},
   "outputs": [],
   "source": []
  },
  {
   "cell_type": "code",
   "execution_count": null,
   "metadata": {},
   "outputs": [],
   "source": []
  }
 ],
 "metadata": {
  "kernelspec": {
   "display_name": "R",
   "language": "R",
   "name": "ir"
  },
  "language_info": {
   "codemirror_mode": "r",
   "file_extension": ".r",
   "mimetype": "text/x-r-source",
   "name": "R",
   "pygments_lexer": "r",
   "version": "3.6.1"
  }
 },
 "nbformat": 4,
 "nbformat_minor": 2
}
